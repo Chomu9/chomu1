{
 "cells": [
  {
   "cell_type": "code",
   "execution_count": 48,
   "id": "e962e076",
   "metadata": {
    "id": "e962e076"
   },
   "outputs": [],
   "source": [
    "import numpy as np\n",
    "from sklearn.model_selection import train_test_split\n",
    "from sklearn.metrics import f1_score, accuracy_score, precision_score, recall_score\n",
    "import pandas as pd"
   ]
  },
  {
   "cell_type": "code",
   "execution_count": 49,
   "id": "4e6f4ac2",
   "metadata": {
    "id": "4e6f4ac2"
   },
   "outputs": [],
   "source": [
    "class LogisticRegression:\n",
    "    def __init__(self, learning_rate=0.01, iteration=1000):\n",
    "        self.learning_rate = learning_rate\n",
    "        self.iteration = iteration\n",
    "        self.theta = None\n",
    "\n",
    "    def add_intercept(self, X):\n",
    "        # Step 1: Create a column vector of ones with the same number of rows as X\n",
    "        intercept_column = np.ones((X.shape[0], 1))\n",
    "\n",
    "        # Step 2: Concatenate the intercept column with X horizontally\n",
    "        X_with_intercept = np.concatenate((intercept_column, X), axis=1)\n",
    "\n",
    "        # Step 3: Return the feature matrix with the intercept column added\n",
    "        return X_with_intercept\n",
    "\n",
    "    def sigmoid(self, z):\n",
    "        return 1 / (1 + np.exp(-z))\n",
    "\n",
    "    def fit(self, X, y):\n",
    "        X = self.add_intercept(X)\n",
    "        self.theta = np.zeros(X.shape[1])\n",
    "        for _ in range(self.iteration):\n",
    "            z = np.dot(X, self.theta)\n",
    "            h = self.sigmoid(z)\n",
    "            gradient = np.dot(X.T, (h - y)) / y.size\n",
    "            self.theta -= gradient * self.learning_rate\n",
    "            #print(self.theta)\n",
    "\n",
    "    def predict_prob(self, X):\n",
    "        X = self.add_intercept(X)\n",
    "        return self.sigmoid(np.dot(X, self.theta))\n",
    "\n",
    "    def predict(self, X, threshold=0.5):\n",
    "        return self.predict_prob(X) >= threshold"
   ]
  },
  {
   "cell_type": "code",
   "execution_count": 50,
   "id": "qRJVjOa1Hg6f",
   "metadata": {
    "colab": {
     "base_uri": "https://localhost:8080/"
    },
    "id": "qRJVjOa1Hg6f",
    "outputId": "ba5e5136-2ff7-4b85-c19b-ac80b328b9a4"
   },
   "outputs": [],
   "source": [
    "data = pd.read_csv(\"Breastcancer_data.csv\")\n",
    "#data.info()\n",
    "#data[4:]"
   ]
  },
  {
   "cell_type": "code",
   "execution_count": 51,
   "id": "5f0c05b1",
   "metadata": {
    "colab": {
     "base_uri": "https://localhost:8080/"
    },
    "id": "5f0c05b1",
    "outputId": "d476bfda-7ed1-4165-e98a-4384c3998906"
   },
   "outputs": [
    {
     "name": "stdout",
     "output_type": "stream",
     "text": [
      "{0, 1}\n"
     ]
    }
   ],
   "source": [
    "X = data.iloc[:,2:-1].values\n",
    "X = np.float64(X)\n",
    "y = data.iloc[:,1].values\n",
    "y = np.where(y == 'M', 1, 0)\n",
    "y.shape, X.shape , y.size\n",
    "print(set(y))"
   ]
  },
  {
   "cell_type": "code",
   "execution_count": 52,
   "id": "dd620391",
   "metadata": {
    "id": "dd620391"
   },
   "outputs": [],
   "source": [
    "X_train, X_test, y_train, y_test = train_test_split(X,y,test_size = 0.3, random_state = 42)\n",
    "#X_test, X_val, y_test, y_val = train_test_split(X_temp,y_temp,test_size = 0.3, random_state = 42)"
   ]
  },
  {
   "cell_type": "code",
   "execution_count": 53,
   "id": "c51064b7",
   "metadata": {
    "id": "c51064b7"
   },
   "outputs": [],
   "source": [
    "model = LogisticRegression()"
   ]
  },
  {
   "cell_type": "code",
   "execution_count": 54,
   "id": "7a6a23fd",
   "metadata": {
    "colab": {
     "base_uri": "https://localhost:8080/"
    },
    "id": "7a6a23fd",
    "outputId": "ce4e46a7-6fb2-43af-d757-f9e6de90f0e1"
   },
   "outputs": [
    {
     "name": "stderr",
     "output_type": "stream",
     "text": [
      "C:\\Users\\Dell\\AppData\\Local\\Temp\\ipykernel_20616\\181082661.py:18: RuntimeWarning: overflow encountered in exp\n",
      "  return 1 / (1 + np.exp(-z))\n"
     ]
    }
   ],
   "source": [
    "model.fit(X_train,y_train)"
   ]
  },
  {
   "cell_type": "code",
   "execution_count": 55,
   "id": "a715920f",
   "metadata": {
    "colab": {
     "base_uri": "https://localhost:8080/"
    },
    "id": "a715920f",
    "outputId": "8c088552-d4fb-449c-afde-2f6d7c4d6df3"
   },
   "outputs": [
    {
     "name": "stderr",
     "output_type": "stream",
     "text": [
      "C:\\Users\\Dell\\AppData\\Local\\Temp\\ipykernel_20616\\181082661.py:18: RuntimeWarning: overflow encountered in exp\n",
      "  return 1 / (1 + np.exp(-z))\n"
     ]
    }
   ],
   "source": [
    "val_predictions = model.predict(X_test)\n",
    "val_predictions_prob = model.predict_prob(X_test)"
   ]
  },
  {
   "cell_type": "code",
   "execution_count": 56,
   "id": "75794d1d",
   "metadata": {
    "colab": {
     "base_uri": "https://localhost:8080/"
    },
    "id": "75794d1d",
    "outputId": "de124a9f-e2c6-4743-fbfa-199e85e81be5"
   },
   "outputs": [],
   "source": [
    "#print(val_predictions_prob)"
   ]
  },
  {
   "cell_type": "code",
   "execution_count": 57,
   "id": "7daa61f3",
   "metadata": {
    "colab": {
     "base_uri": "https://localhost:8080/"
    },
    "id": "7daa61f3",
    "outputId": "880ad0b3-74ee-418b-8b19-fdfdef3792a8"
   },
   "outputs": [
    {
     "name": "stdout",
     "output_type": "stream",
     "text": [
      "Validation Set Metrics:\n",
      "Accuracy: 0.9298245614035088\n",
      "Accuracy: 0.93\n",
      "Precision: 0.86\n",
      "Recall: 0.97\n",
      "F1 Score: 0.91\n"
     ]
    }
   ],
   "source": [
    "accuracy = accuracy_score(y_test, val_predictions)\n",
    "precision = precision_score(y_test, val_predictions)\n",
    "recall = recall_score(y_test, val_predictions)\n",
    "f1 = f1_score(y_test, val_predictions)\n",
    "\n",
    "print(\"Validation Set Metrics:\")\n",
    "print(\"Accuracy:\",accuracy)\n",
    "print(\"Accuracy: {:.2f}\".format(accuracy))\n",
    "print(\"Precision: {:.2f}\".format(precision))\n",
    "print(\"Recall: {:.2f}\".format(recall))\n",
    "print(\"F1 Score: {:.2f}\".format(f1))\n"
   ]
  },
  {
   "cell_type": "code",
   "execution_count": 58,
   "id": "d90e2d87",
   "metadata": {
    "colab": {
     "base_uri": "https://localhost:8080/"
    },
    "id": "d90e2d87",
    "outputId": "ddabcf1b-a9b7-4e3f-a338-d385b0989b2b"
   },
   "outputs": [
    {
     "name": "stdout",
     "output_type": "stream",
     "text": [
      "[[98 10]\n",
      " [ 2 61]]\n",
      "Class 0 predicted and true : \n",
      "98\n",
      "Class 0 predicted and false : \n",
      "10\n",
      "Class 1 predicted and false : \n",
      "2\n",
      "Class 1 predicted and true : \n",
      "61\n"
     ]
    }
   ],
   "source": [
    "from sklearn.metrics import confusion_matrix\n",
    "confusion = confusion_matrix(y_test,val_predictions)\n",
    "print(confusion)\n",
    "print(\"Class 0 predicted and true : \")\n",
    "print(confusion[0][0])\n",
    "print(\"Class 0 predicted and false : \")\n",
    "print(confusion[0][1])\n",
    "print(\"Class 1 predicted and false : \")\n",
    "print(confusion[1][0])\n",
    "print(\"Class 1 predicted and true : \")\n",
    "print(confusion[1][1])"
   ]
  },
  {
   "cell_type": "code",
   "execution_count": null,
   "id": "5967954e-4b79-4d9c-8509-37db7835e108",
   "metadata": {},
   "outputs": [],
   "source": []
  },
  {
   "cell_type": "code",
   "execution_count": null,
   "id": "5cde7a24-3487-4ca9-b3e7-20b983bb2467",
   "metadata": {},
   "outputs": [],
   "source": []
  }
 ],
 "metadata": {
  "colab": {
   "provenance": []
  },
  "kernelspec": {
   "display_name": "Python 3 (ipykernel)",
   "language": "python",
   "name": "python3"
  },
  "language_info": {
   "codemirror_mode": {
    "name": "ipython",
    "version": 3
   },
   "file_extension": ".py",
   "mimetype": "text/x-python",
   "name": "python",
   "nbconvert_exporter": "python",
   "pygments_lexer": "ipython3",
   "version": "3.11.1"
  },
  "vscode": {
   "interpreter": {
    "hash": "40d3a090f54c6569ab1632332b64b2c03c39dcf918b08424e98f38b5ae0af88f"
   }
  }
 },
 "nbformat": 4,
 "nbformat_minor": 5
}
