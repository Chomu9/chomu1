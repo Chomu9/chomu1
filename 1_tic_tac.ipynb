{
 "cells": [
  {
   "cell_type": "code",
   "execution_count": 1,
   "metadata": {},
   "outputs": [
    {
     "name": "stdout",
     "output_type": "stream",
     "text": [
      " | | \n",
      "-+-+-\n",
      " | | \n",
      "-+-+-\n",
      " | | \n",
      "\n",
      "\n",
      "Player goes first! Good luck.\n",
      "Positions are as follow:\n",
      "1, 2, 3 \n",
      "4, 5, 6 \n",
      "7, 8, 9 \n",
      "\n",
      "\n"
     ]
    },
    {
     "name": "stdin",
     "output_type": "stream",
     "text": [
      "Enter the position for 'O':   3\n"
     ]
    },
    {
     "name": "stdout",
     "output_type": "stream",
     "text": [
      " | |O\n",
      "-+-+-\n",
      " | | \n",
      "-+-+-\n",
      " | | \n",
      "\n",
      "\n",
      " | |O\n",
      "-+-+-\n",
      " |X| \n",
      "-+-+-\n",
      " | | \n",
      "\n",
      "\n"
     ]
    },
    {
     "name": "stdin",
     "output_type": "stream",
     "text": [
      "Enter the position for 'O':   5\n"
     ]
    },
    {
     "name": "stdout",
     "output_type": "stream",
     "text": [
      "Can't insert there!\n"
     ]
    },
    {
     "name": "stdin",
     "output_type": "stream",
     "text": [
      "Please enter new position:   2\n"
     ]
    },
    {
     "name": "stdout",
     "output_type": "stream",
     "text": [
      " |O|O\n",
      "-+-+-\n",
      " |X| \n",
      "-+-+-\n",
      " | | \n",
      "\n",
      "\n",
      "X|O|O\n",
      "-+-+-\n",
      " |X| \n",
      "-+-+-\n",
      " | | \n",
      "\n",
      "\n"
     ]
    },
    {
     "name": "stdin",
     "output_type": "stream",
     "text": [
      "Enter the position for 'O':   9\n"
     ]
    },
    {
     "name": "stdout",
     "output_type": "stream",
     "text": [
      "X|O|O\n",
      "-+-+-\n",
      " |X| \n",
      "-+-+-\n",
      " | |O\n",
      "\n",
      "\n",
      "X|O|O\n",
      "-+-+-\n",
      " |X|X\n",
      "-+-+-\n",
      " | |O\n",
      "\n",
      "\n"
     ]
    },
    {
     "name": "stdin",
     "output_type": "stream",
     "text": [
      "Enter the position for 'O':   4\n"
     ]
    },
    {
     "name": "stdout",
     "output_type": "stream",
     "text": [
      "X|O|O\n",
      "-+-+-\n",
      "O|X|X\n",
      "-+-+-\n",
      " | |O\n",
      "\n",
      "\n",
      "X|O|O\n",
      "-+-+-\n",
      "O|X|X\n",
      "-+-+-\n",
      "X| |O\n",
      "\n",
      "\n"
     ]
    },
    {
     "name": "stdin",
     "output_type": "stream",
     "text": [
      "Enter the position for 'O':   7\n"
     ]
    },
    {
     "name": "stdout",
     "output_type": "stream",
     "text": [
      "Can't insert there!\n"
     ]
    },
    {
     "name": "stdin",
     "output_type": "stream",
     "text": [
      "Please enter new position:   8\n"
     ]
    },
    {
     "name": "stdout",
     "output_type": "stream",
     "text": [
      "X|O|O\n",
      "-+-+-\n",
      "O|X|X\n",
      "-+-+-\n",
      "X|O|O\n",
      "\n",
      "\n",
      "Draw!\n"
     ]
    }
   ],
   "source": [
    "def printBoard(board):\n",
    "    print(board[1] + '|' + board[2] + '|' + board[3])\n",
    "    print('-+-+-')\n",
    "    print(board[4] + '|' + board[5] + '|' + board[6])\n",
    "    print('-+-+-')\n",
    "    print(board[7] + '|' + board[8] + '|' + board[9])\n",
    "    print(\"\\n\")\n",
    "\n",
    "\n",
    "def spaceIsFree(position):\n",
    "    if board[position] == ' ':\n",
    "        return True\n",
    "    else:\n",
    "        return False\n",
    "\n",
    "\n",
    "def insertLetter(letter, position):\n",
    "    if spaceIsFree(position):\n",
    "        board[position] = letter\n",
    "        printBoard(board)\n",
    "        if checkDraw():\n",
    "            print(\"Draw!\")\n",
    "            quit()\n",
    "        if checkForWin():\n",
    "            if letter == 'X':\n",
    "                print(\"Bot wins!\")\n",
    "                exit()\n",
    "            else:\n",
    "                print(\"Player wins!\")\n",
    "                exit()\n",
    "\n",
    "        return\n",
    "\n",
    "    else:\n",
    "        print(\"Can't insert there!\")\n",
    "        position = int(input(\"Please enter new position:  \"))\n",
    "        insertLetter(letter, position)\n",
    "        return\n",
    "\n",
    "\n",
    "def checkForWin():\n",
    "    winning_combinations = [\n",
    "        [1, 2, 3], [4, 5, 6], [7, 8, 9],  # Rows\n",
    "        [1, 4, 7], [2, 5, 8], [3, 6, 9],  # Columns\n",
    "        [1, 5, 9], [7, 5, 3]              # Diagonals\n",
    "    ]\n",
    "\n",
    "    for combo in winning_combinations:\n",
    "        if board[combo[0]] == board[combo[1]] == board[combo[2]] and board[combo[0]] != ' ':\n",
    "            return True\n",
    "\n",
    "    return False\n",
    "\n",
    "\n",
    "def checkWhichMarkWon(mark):\n",
    "    winning_combinations = [\n",
    "        [1, 2, 3], [4, 5, 6], [7, 8, 9],  # Rows\n",
    "        [1, 4, 7], [2, 5, 8], [3, 6, 9],  # Columns\n",
    "        [1, 5, 9], [7, 5, 3]              # Diagonals\n",
    "    ]\n",
    "\n",
    "    for combo in winning_combinations:\n",
    "        if board[combo[0]] == board[combo[1]] == board[combo[2]] and board[combo[0]] == mark:\n",
    "            return True\n",
    "\n",
    "    return False\n",
    "\n",
    "\n",
    "def checkDraw():\n",
    "    for key in board.keys():\n",
    "        if (board[key] == ' '):\n",
    "            return False\n",
    "    return True\n",
    "\n",
    "\n",
    "def playerMove():\n",
    "    position = int(input(\"Enter the position for 'O':  \"))\n",
    "    insertLetter(player, position)\n",
    "    return\n",
    "\n",
    "\n",
    "def compMove():\n",
    "    bestScore = -800\n",
    "    bestMove = None\n",
    "    for key in board.keys():\n",
    "        if (board[key] == ' '):\n",
    "            board[key] = bot\n",
    "            score = minimax(board, False)\n",
    "            board[key] = ' '\n",
    "            if (score > bestScore):\n",
    "                bestScore = score\n",
    "                bestMove = key\n",
    "\n",
    "    if bestMove is not None:\n",
    "        insertLetter(bot, bestMove)\n",
    "    else:\n",
    "        print(\"No valid moves left. It's a draw!\")\n",
    "        quit()\n",
    "        \n",
    "    return\n",
    "\n",
    "\n",
    "def minimax(board, isMaximizing):\n",
    "    if (checkWhichMarkWon(bot)):\n",
    "        return 1\n",
    "    elif (checkWhichMarkWon(player)): \n",
    "        return -1\n",
    "    elif (checkDraw()):\n",
    "        return 0\n",
    "\n",
    "    if (isMaximizing):\n",
    "        bestScore = -800\n",
    "        for key in board.keys():\n",
    "            if (board[key] == ' '):\n",
    "                board[key] = bot\n",
    "                score = minimax(board, False)\n",
    "                board[key] = ' '\n",
    "                if (score > bestScore):\n",
    "                    bestScore = score\n",
    "        return bestScore\n",
    "\n",
    "    else:\n",
    "        bestScore = 800\n",
    "        for key in board.keys():\n",
    "            if (board[key] == ' '):\n",
    "                board[key] = player\n",
    "                score = minimax(board, True)\n",
    "                board[key] = ' '\n",
    "                if (score < bestScore):\n",
    "                    bestScore = score\n",
    "        return bestScore\n",
    "\n",
    "\n",
    "board = {1: ' ', 2: ' ', 3: ' ',\n",
    "         4: ' ', 5: ' ', 6: ' ',\n",
    "         7: ' ', 8: ' ', 9: ' '}\n",
    "\n",
    "printBoard(board)\n",
    "print(\"Player goes first! Good luck.\")\n",
    "print(\"Positions are as follow:\")\n",
    "print(\"1, 2, 3 \")\n",
    "print(\"4, 5, 6 \")\n",
    "print(\"7, 8, 9 \")\n",
    "print(\"\\n\")\n",
    "player = 'O'\n",
    "bot = 'X'\n",
    "\n",
    "while not checkForWin():\n",
    "    playerMove()\n",
    "    if checkForWin():\n",
    "        break\n",
    "    if checkDraw():\n",
    "        break\n",
    "    compMove()"
   ]
  },
  {
   "cell_type": "code",
   "execution_count": null,
   "metadata": {},
   "outputs": [],
   "source": []
  }
 ],
 "metadata": {
  "kernelspec": {
   "display_name": "Python 3 (ipykernel)",
   "language": "python",
   "name": "python3"
  },
  "language_info": {
   "codemirror_mode": {
    "name": "ipython",
    "version": 3
   },
   "file_extension": ".py",
   "mimetype": "text/x-python",
   "name": "python",
   "nbconvert_exporter": "python",
   "pygments_lexer": "ipython3",
   "version": "3.11.1"
  },
  "vscode": {
   "interpreter": {
    "hash": "40d3a090f54c6569ab1632332b64b2c03c39dcf918b08424e98f38b5ae0af88f"
   }
  }
 },
 "nbformat": 4,
 "nbformat_minor": 4
}
